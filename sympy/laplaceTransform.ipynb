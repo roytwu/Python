{
 "cells": [
  {
   "cell_type": "code",
   "execution_count": 2,
   "metadata": {},
   "outputs": [
    {
     "name": "stdout",
     "output_type": "stream",
     "text": [
      "θ(t)\n",
      "(1/s, 0, True)\n",
      "Heaviside(t)\n",
      "\n",
      "dydt is...\n",
      "d       \n",
      "──(y(t))\n",
      "dt      \n",
      "\n",
      "\n",
      " d2ydt2 is...\n",
      "  2      \n",
      " d       \n",
      "───(y(t))\n",
      "  2      \n",
      "dt       \n",
      "\n",
      " ====== =====\n",
      "   ⎛     t                        ⎞  -t      \n",
      "-3⋅⎝- 2⋅ℯ  + sin(2⋅t) + 2⋅cos(2⋅t)⎠⋅ℯ  ⋅θ(t) \n",
      "─────────────────────────────────────────────\n",
      "                      10                     \n"
     ]
    },
    {
     "data": {
      "text/latex": [
       "$\\displaystyle - \\frac{3 \\left(- 2 e^{t} + \\sin{\\left(2 t \\right)} + 2 \\cos{\\left(2 t \\right)}\\right) e^{- t} \\theta\\left(t\\right)}{10}$"
      ],
      "text/plain": [
       "-3*(-2*exp(t) + sin(2*t) + 2*cos(2*t))*exp(-t)*Heaviside(t)/10"
      ]
     },
     "metadata": {},
     "output_type": "display_data"
    }
   ],
   "source": [
    "from sympy.integrals.transforms import laplace_transform as LT\n",
    "from sympy.integrals.transforms import inverse_laplace_transform as invLT\n",
    "import sympy as sym\n",
    "from sympy           import Heaviside \n",
    "from sympy           import sin, cos, tan, cot\n",
    "from sympy.printing  import pprint\n",
    "from sympy           import simplify as simp\n",
    "from IPython.display import display  #* nice display in iPython notebook\n",
    "\n",
    "\n",
    "#* in SymPy, variables are defined using symbols\n",
    "t, s = sym.symbols('t, s')\n",
    "a, b, c = sym.symbols('a, b, c')\n",
    "om = sym.symbols('omega')\n",
    "\n",
    "#*---------- ----------\n",
    "#*    Step function  \n",
    "#*---------- ----------\n",
    "u = Heaviside(t) #* step function\n",
    "pprint(u)\n",
    "\n",
    "out1 = LT(u, t, s)\n",
    "print(out1)\n",
    "\n",
    "out2 = invLT(out1[0], s, t)\n",
    "print(out2)\n",
    "\n",
    "foo = cos(om*t)*u     #* (7) in Laplace transform table\n",
    "fooLT = LT(foo, t, s)\n",
    "#pprint(simp(fooLT))\n",
    "\n",
    "#*---------- ----------\n",
    "#*    Laplace transform of a ODE\n",
    "#*---------- ----------\n",
    "y = sym.Function('y')     #* y\n",
    "dydt   = y(t).diff(t)     #* y_dot\n",
    "d2ydt2 = dydt.diff(t)     #* y_ddot\n",
    "\n",
    "print('\\ndydt is...')\n",
    "pprint(dydt)\n",
    "print('\\n\\n d2ydt2 is...')\n",
    "pprint(d2ydt2)\n",
    "\n",
    "left  = d2ydt2 + 12*dydt + 32*y(t)  #* ODE(Example 2.3)\n",
    "right = 32*u \n",
    "expr = sym.Eq(left, right)  #* ODE expression\n",
    "# pprint(expr)\n",
    "\n",
    "sol = sym.dsolve(expr, ics={y(0): 0, y(t).diff(t).subs(t, 0): 0})  #* solution of ODE\n",
    "# pprint(simp(sol))\n",
    "\n",
    "Y = 1/s - 2/(s+4) +1/(s+8)\n",
    "sol2 = invLT(Y, s, t)  #* solution from inverse laplace transform\n",
    "print('\\n ====== =====')\n",
    "# pprint(simp(sol2))\n",
    "\n",
    "\n",
    "#*---------- ----------\n",
    "#*    cases\n",
    "#*---------- ----------\n",
    "# Y=2/(s**2+3*s+2)          #* case 1\n",
    "# Y = 2/((s+1)*(s+2)*(s+2)) #* case 2\n",
    "Y = 3/(s*(s**2+2*s+5))     #* case 3\n",
    "ans = invLT(Y, s, t)\n",
    "pprint(simp(ans))\n",
    "display(ans)"
   ]
  },
  {
   "cell_type": "code",
   "execution_count": null,
   "metadata": {},
   "outputs": [],
   "source": []
  }
 ],
 "metadata": {
  "kernelspec": {
   "display_name": "Python 3",
   "language": "python",
   "name": "python3"
  },
  "language_info": {
   "codemirror_mode": {
    "name": "ipython",
    "version": 3
   },
   "file_extension": ".py",
   "mimetype": "text/x-python",
   "name": "python",
   "nbconvert_exporter": "python",
   "pygments_lexer": "ipython3",
   "version": "3.7.6"
  }
 },
 "nbformat": 4,
 "nbformat_minor": 4
}
